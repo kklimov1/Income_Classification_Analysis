{
 "metadata": {
  "language_info": {
   "codemirror_mode": {
    "name": "ipython",
    "version": 3
   },
   "file_extension": ".py",
   "mimetype": "text/x-python",
   "name": "python",
   "nbconvert_exporter": "python",
   "pygments_lexer": "ipython3",
   "version": "3.9.2"
  },
  "orig_nbformat": 2,
  "kernelspec": {
   "name": "python392jvsc74a57bd02e0b06e939cfaac91950ab77db9a6123fc890c659ed78c01383b418f212f0994",
   "display_name": "Python 3.9.2 64-bit ('base': conda)"
  },
  "metadata": {
   "interpreter": {
    "hash": "2e0b06e939cfaac91950ab77db9a6123fc890c659ed78c01383b418f212f0994"
   }
  }
 },
 "nbformat": 4,
 "nbformat_minor": 2,
 "cells": [
  {
   "cell_type": "code",
   "execution_count": 309,
   "metadata": {},
   "outputs": [],
   "source": [
    "import pandas as pd\n",
    "import numpy as np\n",
    "import matplotlib.pyplot as plt\n",
    "from datetime import datetime\n",
    "from sklearn.compose import ColumnTransformer\n",
    "from sklearn.model_selection import GridSearchCV, train_test_split\n",
    "from sklearn.pipeline import Pipeline\n",
    "from sklearn.metrics import confusion_matrix, precision_score, roc_curve, recall_score, roc_auc_score\n",
    "from sklearn.linear_model import LogisticRegression\n",
    "from sklearn.decomposition import PCA\n",
    "from sklearn.preprocessing import OneHotEncoder, StandardScaler, MinMaxScaler, OrdinalEncoder\n",
    "from sklearn.svm import SVC, LinearSVC #O(m**2.3 x n), O(mxn )\n",
    "from sklearn.ensemble import ExtraTreesClassifier, VotingClassifier, RandomForestClassifier, BaggingClassifier #rfcl Feature Imp.\n",
    "from sklearn.base import TransformerMixin, BaseEstimator"
   ]
  },
  {
   "source": [
    "#### Corr analysis"
   ],
   "cell_type": "markdown",
   "metadata": {}
  },
  {
   "cell_type": "code",
   "execution_count": 345,
   "metadata": {},
   "outputs": [],
   "source": [
    "#corr_arr=X_train.corrwith(y_train)\n",
    "dict_indx={}\n",
    "list_keywords=[' workclass_',' education_',' marital-status_', ' occupation_',' relationship_',' race_',' sex_', ' native-country_', 'age',' fnlwgt', ' education-num', ' capital-gain', ' capital-loss',\n",
    "       ' hours-per-week']\n",
    "for i in list_keywords:\n",
    "    dict_indx[i]=[(ind, round(corr_arr[ind],2)) for ind in corr_arr.index if i in ind]"
   ]
  },
  {
   "source": [
    "Interestingly enough, whether or not someone is self employed in a corporate entity setting, is the best predictor of whether or not you will be payed more than $50K"
   ],
   "cell_type": "markdown",
   "metadata": {}
  },
  {
   "cell_type": "code",
   "execution_count": 346,
   "metadata": {},
   "outputs": [
    {
     "output_type": "execute_result",
     "data": {
      "text/plain": [
       "[(' workclass_ ?', -0.08),\n",
       " (' workclass_ Federal-gov', 0.06),\n",
       " (' workclass_ Local-gov', 0.03),\n",
       " (' workclass_ Never-worked', -0.01),\n",
       " (' workclass_ Private', -0.08),\n",
       " (' workclass_ Self-emp-inc', 0.14),\n",
       " (' workclass_ Self-emp-not-inc', 0.03),\n",
       " (' workclass_ State-gov', 0.01),\n",
       " (' workclass_ Without-pay', -0.01)]"
      ]
     },
     "metadata": {},
     "execution_count": 346
    }
   ],
   "source": [
    "dict_indx[' workclass_']"
   ]
  },
  {
   "source": [
    "It's clear that getting a Masters, Bachelors, or Doctorate, is of utmost importance if you want to make a decent wage above $50K"
   ],
   "cell_type": "markdown",
   "metadata": {}
  },
  {
   "cell_type": "code",
   "execution_count": 347,
   "metadata": {},
   "outputs": [
    {
     "output_type": "execute_result",
     "data": {
      "text/plain": [
       "[(' education_ 10th', -0.07),\n",
       " (' education_ 11th', -0.09),\n",
       " (' education_ 12th', -0.04),\n",
       " (' education_ 1st-4th', -0.03),\n",
       " (' education_ 5th-6th', -0.05),\n",
       " (' education_ 7th-8th', -0.06),\n",
       " (' education_ 9th', -0.06),\n",
       " (' education_ Assoc-acdm', 0.0),\n",
       " (' education_ Assoc-voc', 0.01),\n",
       " (' education_ Bachelors', 0.18),\n",
       " (' education_ Doctorate', 0.13),\n",
       " (' education_ HS-grad', -0.13),\n",
       " (' education_ Masters', 0.17),\n",
       " (' education_ Preschool', -0.02),\n",
       " (' education_ Prof-school', 0.15),\n",
       " (' education_ Some-college', -0.06)]"
      ]
     },
     "metadata": {},
     "execution_count": 347
    }
   ],
   "source": [
    "dict_indx[' education_']"
   ]
  },
  {
   "source": [
    "Perhaps it's good to marry, or perhaps the younger folk who make less money simply are creating a bias in our data. What is surprising, however, is that income is correlated to whether or not your spouse is in the armed forces, a civilian, or if you divorced."
   ],
   "cell_type": "code",
   "metadata": {},
   "execution_count": null,
   "outputs": []
  },
  {
   "cell_type": "code",
   "execution_count": 348,
   "metadata": {},
   "outputs": [
    {
     "output_type": "execute_result",
     "data": {
      "text/plain": [
       "[(' marital-status_ Divorced', -0.13),\n",
       " (' marital-status_ Married-AF-spouse', 0.01),\n",
       " (' marital-status_ Married-civ-spouse', 0.44),\n",
       " (' marital-status_ Married-spouse-absent', -0.04),\n",
       " (' marital-status_ Never-married', -0.32),\n",
       " (' marital-status_ Separated', -0.07),\n",
       " (' marital-status_ Widowed', -0.06)]"
      ]
     },
     "metadata": {},
     "execution_count": 348
    }
   ],
   "source": [
    "dict_indx[' marital-status_']"
   ]
  },
  {
   "source": [
    "It is easy to see that being in an executive/managerial position or having a specialty job is correlated with a >50K salary"
   ],
   "cell_type": "markdown",
   "metadata": {}
  },
  {
   "cell_type": "code",
   "execution_count": 349,
   "metadata": {},
   "outputs": [
    {
     "output_type": "execute_result",
     "data": {
      "text/plain": [
       "[(' occupation_ ?', -0.08),\n",
       " (' occupation_ Adm-clerical', -0.09),\n",
       " (' occupation_ Armed-Forces', -0.01),\n",
       " (' occupation_ Craft-repair', -0.01),\n",
       " (' occupation_ Exec-managerial', 0.21),\n",
       " (' occupation_ Farming-fishing', -0.05),\n",
       " (' occupation_ Handlers-cleaners', -0.09),\n",
       " (' occupation_ Machine-op-inspct', -0.07),\n",
       " (' occupation_ Other-service', -0.16),\n",
       " (' occupation_ Priv-house-serv', -0.04),\n",
       " (' occupation_ Prof-specialty', 0.19),\n",
       " (' occupation_ Protective-serv', 0.03),\n",
       " (' occupation_ Sales', 0.02),\n",
       " (' occupation_ Tech-support', 0.03),\n",
       " (' occupation_ Transport-moving', -0.02)]"
      ]
     },
     "metadata": {},
     "execution_count": 349
    }
   ],
   "source": [
    "dict_indx[' occupation_']"
   ]
  },
  {
   "source": [
    "Disregarding age bias, it's clear that being a male in a relationship is highly correlated to having a higher paying job"
   ],
   "cell_type": "markdown",
   "metadata": {}
  },
  {
   "cell_type": "code",
   "execution_count": 350,
   "metadata": {},
   "outputs": [
    {
     "output_type": "execute_result",
     "data": {
      "text/plain": [
       "[(' relationship_ Husband', 0.4),\n",
       " (' relationship_ Not-in-family', -0.19),\n",
       " (' relationship_ Other-relative', -0.08),\n",
       " (' relationship_ Own-child', -0.23),\n",
       " (' relationship_ Unmarried', -0.14),\n",
       " (' relationship_ Wife', 0.12)]"
      ]
     },
     "metadata": {},
     "execution_count": 350
    }
   ],
   "source": [
    "dict_indx[' relationship_']"
   ]
  },
  {
   "source": [
    "Being white has a slight correlation with higher earnings"
   ],
   "cell_type": "markdown",
   "metadata": {}
  },
  {
   "cell_type": "code",
   "execution_count": 351,
   "metadata": {},
   "outputs": [
    {
     "output_type": "execute_result",
     "data": {
      "text/plain": [
       "[(' race_ Amer-Indian-Eskimo', -0.03),\n",
       " (' race_ Asian-Pac-Islander', 0.01),\n",
       " (' race_ Black', -0.09),\n",
       " (' race_ Other', -0.03),\n",
       " (' race_ White', 0.09)]"
      ]
     },
     "metadata": {},
     "execution_count": 351
    }
   ],
   "source": [
    "dict_indx[' race_']"
   ]
  },
  {
   "source": [
    "As was seen from the marriage instances, being a male is highly correlated with an increased wage"
   ],
   "cell_type": "markdown",
   "metadata": {}
  },
  {
   "cell_type": "code",
   "execution_count": 352,
   "metadata": {},
   "outputs": [
    {
     "output_type": "execute_result",
     "data": {
      "text/plain": [
       "[(' sex_ Female', -0.22), (' sex_ Male', 0.22)]"
      ]
     },
     "metadata": {},
     "execution_count": 352
    }
   ],
   "source": [
    "dict_indx[' sex_']"
   ]
  },
  {
   "source": [
    "No strong correlations were found, despite that being of Mexican descent implied a salary under 50K, and being from the United States, implied a higher likelihood of earnings more than $50K"
   ],
   "cell_type": "markdown",
   "metadata": {}
  },
  {
   "cell_type": "code",
   "execution_count": 355,
   "metadata": {},
   "outputs": [
    {
     "output_type": "stream",
     "name": "stdout",
     "text": [
      "[(' native-country_ ?', 0.0), (' native-country_ Cambodia', 0.01), (' native-country_ Canada', 0.01), (' native-country_ China', 0.0), (' native-country_ Columbia', -0.02), (' native-country_ Cuba', 0.0), (' native-country_ Dominican-Republic', -0.02), (' native-country_ Ecuador', -0.01), (' native-country_ El-Salvador', -0.02), (' native-country_ England', 0.01), (' native-country_ France', 0.01), (' native-country_ Germany', 0.01), (' native-country_ Greece', 0.0), (' native-country_ Guatemala', -0.02), (' native-country_ Haiti', -0.01), (' native-country_ Holand-Netherlands', -0.0), (' native-country_ Honduras', -0.01), (' native-country_ Hong', 0.0), (' native-country_ Hungary', -0.0), (' native-country_ India', 0.02), (' native-country_ Iran', 0.02), (' native-country_ Ireland', -0.0), (' native-country_ Italy', 0.01), (' native-country_ Jamaica', -0.01), (' native-country_ Japan', 0.01), (' native-country_ Laos', -0.01), (' native-country_ Mexico', -0.06), (' native-country_ Nicaragua', -0.01), (' native-country_ Outlying-US(Guam-USVI-etc)', -0.01), (' native-country_ Peru', -0.01), (' native-country_ Philippines', 0.01), (' native-country_ Poland', -0.0), (' native-country_ Portugal', -0.01), (' native-country_ Puerto-Rico', -0.02), (' native-country_ Scotland', 0.0), (' native-country_ South', -0.0), (' native-country_ Taiwan', 0.01), (' native-country_ Thailand', -0.0), (' native-country_ Trinadad&Tobago', -0.01), (' native-country_ United-States', 0.03), (' native-country_ Vietnam', -0.02), (' native-country_ Yugoslavia', 0.01)]\n"
     ]
    }
   ],
   "source": [
    "print(dict_indx[' native-country_'])"
   ]
  },
  {
   "source": [
    "## As proposed earlier, age plays a significant role in the likelihood. So does education, capital gain/loss, and hours worked per week."
   ],
   "cell_type": "markdown",
   "metadata": {}
  },
  {
   "cell_type": "code",
   "execution_count": 363,
   "metadata": {},
   "outputs": [
    {
     "output_type": "stream",
     "name": "stdout",
     "text": [
      "[(' occupation_ Exec-managerial', 0.21), ('age', 0.23)]\n[(' fnlwgt', -0.01)]\n[(' education-num', 0.34)]\n[(' capital-gain', 0.22)]\n[(' capital-loss', 0.15)]\n[(' hours-per-week', 0.23)]\n"
     ]
    },
    {
     "output_type": "execute_result",
     "data": {
      "text/plain": [
       "[None, None, None, None, None, None]"
      ]
     },
     "metadata": {},
     "execution_count": 363
    }
   ],
   "source": [
    "[print(dict_indx[i]) for i in list_keywords[8:]]"
   ]
  },
  {
   "source": [
    "We will now drop the indices with the lowest correlation:"
   ],
   "cell_type": "markdown",
   "metadata": {}
  },
  {
   "cell_type": "code",
   "execution_count": 365,
   "metadata": {},
   "outputs": [],
   "source": [
    "columns_keep=list(corr_arr[abs(corr_arr)>0.1].index) #If they have an absolute value of greater than .1:\n",
    "X_train=X_train[columns_keep]"
   ]
  },
  {
   "source": [
    "This leaves us with 84 less dimensions, as opposed to 108 initial dimensions!"
   ],
   "cell_type": "markdown",
   "metadata": {}
  },
  {
   "source": [
    "## Data Analysis"
   ],
   "cell_type": "markdown",
   "metadata": {}
  },
  {
   "cell_type": "code",
   "execution_count": 294,
   "metadata": {},
   "outputs": [],
   "source": [
    "df=pd.read_csv('income_evaluation.csv')\n",
    "y_train=df[' income']\n",
    "y_train=y_train==' >50K'\n",
    "X_train=df.drop([' income'], axis=1)"
   ]
  },
  {
   "cell_type": "code",
   "execution_count": 295,
   "metadata": {},
   "outputs": [
    {
     "output_type": "execute_result",
     "data": {
      "text/plain": [
       "Index(['age', ' workclass', ' fnlwgt', ' education', ' education-num',\n",
       "       ' marital-status', ' occupation', ' relationship', ' race', ' sex',\n",
       "       ' capital-gain', ' capital-loss', ' hours-per-week', ' native-country'],\n",
       "      dtype='object')"
      ]
     },
     "metadata": {},
     "execution_count": 295
    }
   ],
   "source": [
    "X_train.columns"
   ]
  },
  {
   "cell_type": "code",
   "execution_count": 296,
   "metadata": {},
   "outputs": [
    {
     "output_type": "stream",
     "name": "stdout",
     "text": [
      "<class 'pandas.core.frame.DataFrame'>\n",
      "RangeIndex: 32561 entries, 0 to 32560\n",
      "Data columns (total 14 columns):\n",
      " #   Column           Non-Null Count  Dtype \n",
      "---  ------           --------------  ----- \n",
      " 0   age              32561 non-null  int64 \n",
      " 1    workclass       32561 non-null  object\n",
      " 2    fnlwgt          32561 non-null  int64 \n",
      " 3    education       32561 non-null  object\n",
      " 4    education-num   32561 non-null  int64 \n",
      " 5    marital-status  32561 non-null  object\n",
      " 6    occupation      32561 non-null  object\n",
      " 7    relationship    32561 non-null  object\n",
      " 8    race            32561 non-null  object\n",
      " 9    sex             32561 non-null  object\n",
      " 10   capital-gain    32561 non-null  int64 \n",
      " 11   capital-loss    32561 non-null  int64 \n",
      " 12   hours-per-week  32561 non-null  int64 \n",
      " 13   native-country  32561 non-null  object\n",
      "dtypes: int64(6), object(8)\n",
      "memory usage: 3.5+ MB\n",
      "<ipython-input-296-c5d70de64e2c>:1: FutureWarning: null_counts is deprecated. Use show_counts instead\n",
      "  X_train.info(verbose=True, null_counts=True) #No null values, so no need to handle missing data\n"
     ]
    }
   ],
   "source": [
    "X_train.info(verbose=True, null_counts=True) #No null values, so no need to handle missing data"
   ]
  },
  {
   "source": [
    "Use this for faster processing. We will be analyzing the columns however, so we will transform back to a dataframe."
   ],
   "cell_type": "markdown",
   "metadata": {}
  },
  {
   "cell_type": "code",
   "execution_count": 141,
   "metadata": {},
   "outputs": [],
   "source": [
    "def transform_data_to_array(df):\n",
    "    col_transformer_min_max=ColumnTransformer([('one_hot', OneHotEncoder(), list_objs),\n",
    "                                            ('min_max', MinMaxScaler(), list_nums)])\n",
    "    sparse_arr=col_transformer_min_max.fit_transform(df)\n",
    "    train_data=sparse_arr.toarray()"
   ]
  },
  {
   "source": [
    "Now we one hot encode our data"
   ],
   "cell_type": "markdown",
   "metadata": {}
  },
  {
   "cell_type": "code",
   "execution_count": 300,
   "metadata": {},
   "outputs": [],
   "source": [
    "def transform_data(df):\n",
    "    global ohe\n",
    "    global list_objs, list_nums\n",
    "    list_nums=[column for column in df.columns if df[column].dtype==np.dtype('int')]\n",
    "    list_objs=[column for column in df.columns if df[column].dtype==np.dtype('O')]\n",
    "    ohe=OneHotEncoder()\n",
    "    min_max_scaler=MinMaxScaler()\n",
    "\n",
    "    arr1_sparse=ohe.fit_transform(df[list_objs])\n",
    "    arr1=arr1_sparse.toarray()\n",
    "    df1=pd.DataFrame(arr1, columns=ohe.get_feature_names())\n",
    "    arr2=min_max_scaler.fit_transform(df[list_nums])\n",
    "    df2=pd.DataFrame(arr2, columns=list_nums)\n",
    "    df=pd.merge(df1,df2, left_index=True, right_index=True)\n",
    "    return df\n",
    "\n",
    "X_train=transform_data(X_train)"
   ]
  },
  {
   "cell_type": "code",
   "execution_count": 301,
   "metadata": {},
   "outputs": [],
   "source": [
    "def rename_columns(df):\n",
    "    for i in df.columns:\n",
    "        if len(i.split('_'))>1:\n",
    "            try:\n",
    "                index=int(i.split('_')[0][-1])\n",
    "                #print('{}_'.format(list_objs[index]) + i.split('_')[-1])\n",
    "                df.rename(columns= { i : '{}_'.format(list_objs[index]) + i.split('_')[-1]} ,inplace=True)\n",
    "            except Exception as x:\n",
    "                print(x)\n",
    "rename_columns(X_train)"
   ]
  },
  {
   "source": [
    "Split into train, test"
   ],
   "cell_type": "markdown",
   "metadata": {}
  },
  {
   "cell_type": "code",
   "execution_count": 369,
   "metadata": {},
   "outputs": [],
   "source": [
    "X_train, X_test, y_train, y_test = train_test_split(X_train, y_train, stratify=y_train, test_size=.05, random_state=41)"
   ]
  },
  {
   "cell_type": "code",
   "execution_count": 370,
   "metadata": {
    "tags": []
   },
   "outputs": [
    {
     "output_type": "execute_result",
     "data": {
      "text/plain": [
       "GridSearchCV(estimator=LogisticRegression(max_iter=1000), n_jobs=-1,\n",
       "             param_grid={'C': [1, 0.1, 0.01, 10, 100], 'penalty': ['l2'],\n",
       "                         'tol': [1e-05, 0.0001]})"
      ]
     },
     "metadata": {},
     "execution_count": 370
    }
   ],
   "source": [
    "log_reg=LogisticRegression(max_iter=1000)\n",
    "grid_log_reg={'penalty':['l2'], 'C':[1,0.1,1e-2,10,100] ,'tol':[1e-5, 1e-4]}\n",
    "grid_log_reg_clf=GridSearchCV(log_reg, grid_log_reg, n_jobs=-1)\n",
    "grid_log_reg_clf.fit(X_train, y_train)"
   ]
  },
  {
   "cell_type": "code",
   "execution_count": 371,
   "metadata": {},
   "outputs": [],
   "source": [
    "y_train_pred=grid_log_reg_clf.predict(X_train)"
   ]
  },
  {
   "cell_type": "code",
   "execution_count": 372,
   "metadata": {},
   "outputs": [
    {
     "output_type": "stream",
     "name": "stdout",
     "text": [
      "[[21907  3152]\n [ 1576  4297]]\n"
     ]
    }
   ],
   "source": [
    "print(confusion_matrix(y_train_pred, y_train))"
   ]
  },
  {
   "cell_type": "code",
   "execution_count": 373,
   "metadata": {},
   "outputs": [],
   "source": [
    "y_scores=grid_log_reg_clf.decision_function(X_train)"
   ]
  },
  {
   "cell_type": "code",
   "execution_count": 374,
   "metadata": {},
   "outputs": [],
   "source": [
    "def plt_roc(fpr, tpr, **kwargs):\n",
    "    plt.plot(fpr, tpr)\n",
    "    plt.show()"
   ]
  },
  {
   "cell_type": "code",
   "execution_count": 376,
   "metadata": {},
   "outputs": [
    {
     "output_type": "display_data",
     "data": {
      "text/plain": "<Figure size 432x288 with 1 Axes>",
      "image/svg+xml": "<?xml version=\"1.0\" encoding=\"utf-8\" standalone=\"no\"?>\n<!DOCTYPE svg PUBLIC \"-//W3C//DTD SVG 1.1//EN\"\n  \"http://www.w3.org/Graphics/SVG/1.1/DTD/svg11.dtd\">\n<svg height=\"248.518125pt\" version=\"1.1\" viewBox=\"0 0 372.103125 248.518125\" width=\"372.103125pt\" xmlns=\"http://www.w3.org/2000/svg\" xmlns:xlink=\"http://www.w3.org/1999/xlink\">\n <metadata>\n  <rdf:RDF xmlns:cc=\"http://creativecommons.org/ns#\" xmlns:dc=\"http://purl.org/dc/elements/1.1/\" xmlns:rdf=\"http://www.w3.org/1999/02/22-rdf-syntax-ns#\">\n   <cc:Work>\n    <dc:type rdf:resource=\"http://purl.org/dc/dcmitype/StillImage\"/>\n    <dc:date>2021-05-07T16:22:17.800648</dc:date>\n    <dc:format>image/svg+xml</dc:format>\n    <dc:creator>\n     <cc:Agent>\n      <dc:title>Matplotlib v3.4.1, https://matplotlib.org/</dc:title>\n     </cc:Agent>\n    </dc:creator>\n   </cc:Work>\n  </rdf:RDF>\n </metadata>\n <defs>\n  <style type=\"text/css\">*{stroke-linecap:butt;stroke-linejoin:round;}</style>\n </defs>\n <g id=\"figure_1\">\n  <g id=\"patch_1\">\n   <path d=\"M 0 248.518125 \nL 372.103125 248.518125 \nL 372.103125 0 \nL 0 0 \nz\n\" style=\"fill:none;\"/>\n  </g>\n  <g id=\"axes_1\">\n   <g id=\"patch_2\">\n    <path d=\"M 30.103125 224.64 \nL 364.903125 224.64 \nL 364.903125 7.2 \nL 30.103125 7.2 \nz\n\" style=\"fill:#ffffff;\"/>\n   </g>\n   <g id=\"matplotlib.axis_1\">\n    <g id=\"xtick_1\">\n     <g id=\"line2d_1\">\n      <defs>\n       <path d=\"M 0 0 \nL 0 3.5 \n\" id=\"m947734491d\" style=\"stroke:#000000;stroke-width:0.8;\"/>\n      </defs>\n      <g>\n       <use style=\"stroke:#000000;stroke-width:0.8;\" x=\"45.321307\" xlink:href=\"#m947734491d\" y=\"224.64\"/>\n      </g>\n     </g>\n     <g id=\"text_1\">\n      <!-- 0.0 -->\n      <g transform=\"translate(37.369744 239.238437)scale(0.1 -0.1)\">\n       <defs>\n        <path d=\"M 2034 4250 \nQ 1547 4250 1301 3770 \nQ 1056 3291 1056 2328 \nQ 1056 1369 1301 889 \nQ 1547 409 2034 409 \nQ 2525 409 2770 889 \nQ 3016 1369 3016 2328 \nQ 3016 3291 2770 3770 \nQ 2525 4250 2034 4250 \nz\nM 2034 4750 \nQ 2819 4750 3233 4129 \nQ 3647 3509 3647 2328 \nQ 3647 1150 3233 529 \nQ 2819 -91 2034 -91 \nQ 1250 -91 836 529 \nQ 422 1150 422 2328 \nQ 422 3509 836 4129 \nQ 1250 4750 2034 4750 \nz\n\" id=\"DejaVuSans-30\" transform=\"scale(0.015625)\"/>\n        <path d=\"M 684 794 \nL 1344 794 \nL 1344 0 \nL 684 0 \nL 684 794 \nz\n\" id=\"DejaVuSans-2e\" transform=\"scale(0.015625)\"/>\n       </defs>\n       <use xlink:href=\"#DejaVuSans-30\"/>\n       <use x=\"63.623047\" xlink:href=\"#DejaVuSans-2e\"/>\n       <use x=\"95.410156\" xlink:href=\"#DejaVuSans-30\"/>\n      </g>\n     </g>\n    </g>\n    <g id=\"xtick_2\">\n     <g id=\"line2d_2\">\n      <g>\n       <use style=\"stroke:#000000;stroke-width:0.8;\" x=\"106.194034\" xlink:href=\"#m947734491d\" y=\"224.64\"/>\n      </g>\n     </g>\n     <g id=\"text_2\">\n      <!-- 0.2 -->\n      <g transform=\"translate(98.242472 239.238437)scale(0.1 -0.1)\">\n       <defs>\n        <path d=\"M 1228 531 \nL 3431 531 \nL 3431 0 \nL 469 0 \nL 469 531 \nQ 828 903 1448 1529 \nQ 2069 2156 2228 2338 \nQ 2531 2678 2651 2914 \nQ 2772 3150 2772 3378 \nQ 2772 3750 2511 3984 \nQ 2250 4219 1831 4219 \nQ 1534 4219 1204 4116 \nQ 875 4013 500 3803 \nL 500 4441 \nQ 881 4594 1212 4672 \nQ 1544 4750 1819 4750 \nQ 2544 4750 2975 4387 \nQ 3406 4025 3406 3419 \nQ 3406 3131 3298 2873 \nQ 3191 2616 2906 2266 \nQ 2828 2175 2409 1742 \nQ 1991 1309 1228 531 \nz\n\" id=\"DejaVuSans-32\" transform=\"scale(0.015625)\"/>\n       </defs>\n       <use xlink:href=\"#DejaVuSans-30\"/>\n       <use x=\"63.623047\" xlink:href=\"#DejaVuSans-2e\"/>\n       <use x=\"95.410156\" xlink:href=\"#DejaVuSans-32\"/>\n      </g>\n     </g>\n    </g>\n    <g id=\"xtick_3\">\n     <g id=\"line2d_3\">\n      <g>\n       <use style=\"stroke:#000000;stroke-width:0.8;\" x=\"167.066761\" xlink:href=\"#m947734491d\" y=\"224.64\"/>\n      </g>\n     </g>\n     <g id=\"text_3\">\n      <!-- 0.4 -->\n      <g transform=\"translate(159.115199 239.238437)scale(0.1 -0.1)\">\n       <defs>\n        <path d=\"M 2419 4116 \nL 825 1625 \nL 2419 1625 \nL 2419 4116 \nz\nM 2253 4666 \nL 3047 4666 \nL 3047 1625 \nL 3713 1625 \nL 3713 1100 \nL 3047 1100 \nL 3047 0 \nL 2419 0 \nL 2419 1100 \nL 313 1100 \nL 313 1709 \nL 2253 4666 \nz\n\" id=\"DejaVuSans-34\" transform=\"scale(0.015625)\"/>\n       </defs>\n       <use xlink:href=\"#DejaVuSans-30\"/>\n       <use x=\"63.623047\" xlink:href=\"#DejaVuSans-2e\"/>\n       <use x=\"95.410156\" xlink:href=\"#DejaVuSans-34\"/>\n      </g>\n     </g>\n    </g>\n    <g id=\"xtick_4\">\n     <g id=\"line2d_4\">\n      <g>\n       <use style=\"stroke:#000000;stroke-width:0.8;\" x=\"227.939489\" xlink:href=\"#m947734491d\" y=\"224.64\"/>\n      </g>\n     </g>\n     <g id=\"text_4\">\n      <!-- 0.6 -->\n      <g transform=\"translate(219.987926 239.238437)scale(0.1 -0.1)\">\n       <defs>\n        <path d=\"M 2113 2584 \nQ 1688 2584 1439 2293 \nQ 1191 2003 1191 1497 \nQ 1191 994 1439 701 \nQ 1688 409 2113 409 \nQ 2538 409 2786 701 \nQ 3034 994 3034 1497 \nQ 3034 2003 2786 2293 \nQ 2538 2584 2113 2584 \nz\nM 3366 4563 \nL 3366 3988 \nQ 3128 4100 2886 4159 \nQ 2644 4219 2406 4219 \nQ 1781 4219 1451 3797 \nQ 1122 3375 1075 2522 \nQ 1259 2794 1537 2939 \nQ 1816 3084 2150 3084 \nQ 2853 3084 3261 2657 \nQ 3669 2231 3669 1497 \nQ 3669 778 3244 343 \nQ 2819 -91 2113 -91 \nQ 1303 -91 875 529 \nQ 447 1150 447 2328 \nQ 447 3434 972 4092 \nQ 1497 4750 2381 4750 \nQ 2619 4750 2861 4703 \nQ 3103 4656 3366 4563 \nz\n\" id=\"DejaVuSans-36\" transform=\"scale(0.015625)\"/>\n       </defs>\n       <use xlink:href=\"#DejaVuSans-30\"/>\n       <use x=\"63.623047\" xlink:href=\"#DejaVuSans-2e\"/>\n       <use x=\"95.410156\" xlink:href=\"#DejaVuSans-36\"/>\n      </g>\n     </g>\n    </g>\n    <g id=\"xtick_5\">\n     <g id=\"line2d_5\">\n      <g>\n       <use style=\"stroke:#000000;stroke-width:0.8;\" x=\"288.812216\" xlink:href=\"#m947734491d\" y=\"224.64\"/>\n      </g>\n     </g>\n     <g id=\"text_5\">\n      <!-- 0.8 -->\n      <g transform=\"translate(280.860653 239.238437)scale(0.1 -0.1)\">\n       <defs>\n        <path d=\"M 2034 2216 \nQ 1584 2216 1326 1975 \nQ 1069 1734 1069 1313 \nQ 1069 891 1326 650 \nQ 1584 409 2034 409 \nQ 2484 409 2743 651 \nQ 3003 894 3003 1313 \nQ 3003 1734 2745 1975 \nQ 2488 2216 2034 2216 \nz\nM 1403 2484 \nQ 997 2584 770 2862 \nQ 544 3141 544 3541 \nQ 544 4100 942 4425 \nQ 1341 4750 2034 4750 \nQ 2731 4750 3128 4425 \nQ 3525 4100 3525 3541 \nQ 3525 3141 3298 2862 \nQ 3072 2584 2669 2484 \nQ 3125 2378 3379 2068 \nQ 3634 1759 3634 1313 \nQ 3634 634 3220 271 \nQ 2806 -91 2034 -91 \nQ 1263 -91 848 271 \nQ 434 634 434 1313 \nQ 434 1759 690 2068 \nQ 947 2378 1403 2484 \nz\nM 1172 3481 \nQ 1172 3119 1398 2916 \nQ 1625 2713 2034 2713 \nQ 2441 2713 2670 2916 \nQ 2900 3119 2900 3481 \nQ 2900 3844 2670 4047 \nQ 2441 4250 2034 4250 \nQ 1625 4250 1398 4047 \nQ 1172 3844 1172 3481 \nz\n\" id=\"DejaVuSans-38\" transform=\"scale(0.015625)\"/>\n       </defs>\n       <use xlink:href=\"#DejaVuSans-30\"/>\n       <use x=\"63.623047\" xlink:href=\"#DejaVuSans-2e\"/>\n       <use x=\"95.410156\" xlink:href=\"#DejaVuSans-38\"/>\n      </g>\n     </g>\n    </g>\n    <g id=\"xtick_6\">\n     <g id=\"line2d_6\">\n      <g>\n       <use style=\"stroke:#000000;stroke-width:0.8;\" x=\"349.684943\" xlink:href=\"#m947734491d\" y=\"224.64\"/>\n      </g>\n     </g>\n     <g id=\"text_6\">\n      <!-- 1.0 -->\n      <g transform=\"translate(341.733381 239.238437)scale(0.1 -0.1)\">\n       <defs>\n        <path d=\"M 794 531 \nL 1825 531 \nL 1825 4091 \nL 703 3866 \nL 703 4441 \nL 1819 4666 \nL 2450 4666 \nL 2450 531 \nL 3481 531 \nL 3481 0 \nL 794 0 \nL 794 531 \nz\n\" id=\"DejaVuSans-31\" transform=\"scale(0.015625)\"/>\n       </defs>\n       <use xlink:href=\"#DejaVuSans-31\"/>\n       <use x=\"63.623047\" xlink:href=\"#DejaVuSans-2e\"/>\n       <use x=\"95.410156\" xlink:href=\"#DejaVuSans-30\"/>\n      </g>\n     </g>\n    </g>\n   </g>\n   <g id=\"matplotlib.axis_2\">\n    <g id=\"ytick_1\">\n     <g id=\"line2d_7\">\n      <defs>\n       <path d=\"M 0 0 \nL -3.5 0 \n\" id=\"m88a36f2e42\" style=\"stroke:#000000;stroke-width:0.8;\"/>\n      </defs>\n      <g>\n       <use style=\"stroke:#000000;stroke-width:0.8;\" x=\"30.103125\" xlink:href=\"#m88a36f2e42\" y=\"214.756364\"/>\n      </g>\n     </g>\n     <g id=\"text_7\">\n      <!-- 0.0 -->\n      <g transform=\"translate(7.2 218.555582)scale(0.1 -0.1)\">\n       <use xlink:href=\"#DejaVuSans-30\"/>\n       <use x=\"63.623047\" xlink:href=\"#DejaVuSans-2e\"/>\n       <use x=\"95.410156\" xlink:href=\"#DejaVuSans-30\"/>\n      </g>\n     </g>\n    </g>\n    <g id=\"ytick_2\">\n     <g id=\"line2d_8\">\n      <g>\n       <use style=\"stroke:#000000;stroke-width:0.8;\" x=\"30.103125\" xlink:href=\"#m88a36f2e42\" y=\"175.221818\"/>\n      </g>\n     </g>\n     <g id=\"text_8\">\n      <!-- 0.2 -->\n      <g transform=\"translate(7.2 179.021037)scale(0.1 -0.1)\">\n       <use xlink:href=\"#DejaVuSans-30\"/>\n       <use x=\"63.623047\" xlink:href=\"#DejaVuSans-2e\"/>\n       <use x=\"95.410156\" xlink:href=\"#DejaVuSans-32\"/>\n      </g>\n     </g>\n    </g>\n    <g id=\"ytick_3\">\n     <g id=\"line2d_9\">\n      <g>\n       <use style=\"stroke:#000000;stroke-width:0.8;\" x=\"30.103125\" xlink:href=\"#m88a36f2e42\" y=\"135.687273\"/>\n      </g>\n     </g>\n     <g id=\"text_9\">\n      <!-- 0.4 -->\n      <g transform=\"translate(7.2 139.486491)scale(0.1 -0.1)\">\n       <use xlink:href=\"#DejaVuSans-30\"/>\n       <use x=\"63.623047\" xlink:href=\"#DejaVuSans-2e\"/>\n       <use x=\"95.410156\" xlink:href=\"#DejaVuSans-34\"/>\n      </g>\n     </g>\n    </g>\n    <g id=\"ytick_4\">\n     <g id=\"line2d_10\">\n      <g>\n       <use style=\"stroke:#000000;stroke-width:0.8;\" x=\"30.103125\" xlink:href=\"#m88a36f2e42\" y=\"96.152727\"/>\n      </g>\n     </g>\n     <g id=\"text_10\">\n      <!-- 0.6 -->\n      <g transform=\"translate(7.2 99.951946)scale(0.1 -0.1)\">\n       <use xlink:href=\"#DejaVuSans-30\"/>\n       <use x=\"63.623047\" xlink:href=\"#DejaVuSans-2e\"/>\n       <use x=\"95.410156\" xlink:href=\"#DejaVuSans-36\"/>\n      </g>\n     </g>\n    </g>\n    <g id=\"ytick_5\">\n     <g id=\"line2d_11\">\n      <g>\n       <use style=\"stroke:#000000;stroke-width:0.8;\" x=\"30.103125\" xlink:href=\"#m88a36f2e42\" y=\"56.618182\"/>\n      </g>\n     </g>\n     <g id=\"text_11\">\n      <!-- 0.8 -->\n      <g transform=\"translate(7.2 60.417401)scale(0.1 -0.1)\">\n       <use xlink:href=\"#DejaVuSans-30\"/>\n       <use x=\"63.623047\" xlink:href=\"#DejaVuSans-2e\"/>\n       <use x=\"95.410156\" xlink:href=\"#DejaVuSans-38\"/>\n      </g>\n     </g>\n    </g>\n    <g id=\"ytick_6\">\n     <g id=\"line2d_12\">\n      <g>\n       <use style=\"stroke:#000000;stroke-width:0.8;\" x=\"30.103125\" xlink:href=\"#m88a36f2e42\" y=\"17.083636\"/>\n      </g>\n     </g>\n     <g id=\"text_12\">\n      <!-- 1.0 -->\n      <g transform=\"translate(7.2 20.882855)scale(0.1 -0.1)\">\n       <use xlink:href=\"#DejaVuSans-31\"/>\n       <use x=\"63.623047\" xlink:href=\"#DejaVuSans-2e\"/>\n       <use x=\"95.410156\" xlink:href=\"#DejaVuSans-30\"/>\n      </g>\n     </g>\n    </g>\n   </g>\n   <g id=\"line2d_13\">\n    <path clip-path=\"url(#p148321f5f7)\" d=\"M 45.321307 214.756364 \nL 45.321307 17.083636 \nL 349.684943 17.083636 \nL 349.684943 17.083636 \n\" style=\"fill:none;stroke:#1f77b4;stroke-linecap:square;stroke-width:1.5;\"/>\n   </g>\n   <g id=\"patch_3\">\n    <path d=\"M 30.103125 224.64 \nL 30.103125 7.2 \n\" style=\"fill:none;stroke:#000000;stroke-linecap:square;stroke-linejoin:miter;stroke-width:0.8;\"/>\n   </g>\n   <g id=\"patch_4\">\n    <path d=\"M 364.903125 224.64 \nL 364.903125 7.2 \n\" style=\"fill:none;stroke:#000000;stroke-linecap:square;stroke-linejoin:miter;stroke-width:0.8;\"/>\n   </g>\n   <g id=\"patch_5\">\n    <path d=\"M 30.103125 224.64 \nL 364.903125 224.64 \n\" style=\"fill:none;stroke:#000000;stroke-linecap:square;stroke-linejoin:miter;stroke-width:0.8;\"/>\n   </g>\n   <g id=\"patch_6\">\n    <path d=\"M 30.103125 7.2 \nL 364.903125 7.2 \n\" style=\"fill:none;stroke:#000000;stroke-linecap:square;stroke-linejoin:miter;stroke-width:0.8;\"/>\n   </g>\n  </g>\n </g>\n <defs>\n  <clipPath id=\"p148321f5f7\">\n   <rect height=\"217.44\" width=\"334.8\" x=\"30.103125\" y=\"7.2\"/>\n  </clipPath>\n </defs>\n</svg>\n",
      "image/png": "[encoded data removed]"
     },
     "metadata": {
      "needs_background": "light"
     }
    },
    {
     "output_type": "stream",
     "name": "stdout",
     "text": [
      "Area under curve: 0.903 ,out of 1\n"
     ]
    }
   ],
   "source": [
    "fpr,tpr, thresholds=roc_curve(y_train_pred, y_scores)\n",
    "plt_roc(fpr, tpr)\n",
    "print('Area under curve:',round(roc_auc_score(y_train, y_scores),3), 'out of 1')"
   ]
  },
  {
   "source": [
    ".852 score without Dim reduction, and .847 despite nearly 1/4th the dimensions!"
   ],
   "cell_type": "markdown",
   "metadata": {}
  },
  {
   "cell_type": "code",
   "execution_count": 377,
   "metadata": {},
   "outputs": [
    {
     "output_type": "execute_result",
     "data": {
      "text/plain": [
       "0.8472455072641442"
      ]
     },
     "metadata": {},
     "execution_count": 377
    }
   ],
   "source": [
    "grid_log_reg_clf.best_estimator_.predict_proba(X_train) #Good for ensemble learning\n",
    "grid_log_reg_clf.best_score_"
   ]
  },
  {
   "source": [
    "# SVCs"
   ],
   "cell_type": "markdown",
   "metadata": {}
  },
  {
   "cell_type": "code",
   "execution_count": null,
   "metadata": {},
   "outputs": [],
   "source": [
    "linear_SVC=LinearSVC()"
   ]
  }
 ]
}